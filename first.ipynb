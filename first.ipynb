{
 "cells": [
  {
   "cell_type": "code",
   "execution_count": 3,
   "metadata": {},
   "outputs": [
    {
     "data": {
      "text/plain": [
       "'3.7.5'"
      ]
     },
     "execution_count": 3,
     "metadata": {},
     "output_type": "execute_result"
    }
   ],
   "source": [
    "from spacy import displacy\n",
    "import spacy\n",
    "spacy.__version__"
   ]
  },
  {
   "cell_type": "code",
   "execution_count": 4,
   "metadata": {},
   "outputs": [
    {
     "name": "stderr",
     "output_type": "stream",
     "text": [
      "/home/jaredxfeng/sides/nergnt/venvv/lib/python3.12/site-packages/tqdm/auto.py:21: TqdmWarning: IProgress not found. Please update jupyter and ipywidgets. See https://ipywidgets.readthedocs.io/en/stable/user_install.html\n",
      "  from .autonotebook import tqdm as notebook_tqdm\n"
     ]
    }
   ],
   "source": [
    "nlp = spacy.load('grc_odycy_joint_trf')"
   ]
  },
  {
   "cell_type": "code",
   "execution_count": 5,
   "metadata": {},
   "outputs": [
    {
     "name": "stderr",
     "output_type": "stream",
     "text": [
      "/home/jaredxfeng/sides/nergnt/venvv/lib/python3.12/site-packages/thinc/shims/pytorch.py:114: FutureWarning: `torch.cuda.amp.autocast(args...)` is deprecated. Please use `torch.amp.autocast('cuda', args...)` instead.\n",
      "  with torch.cuda.amp.autocast(self._mixed_precision):\n"
     ]
    }
   ],
   "source": [
    "doc = nlp('τὴν γοῦν Ἀττικὴν ἐκ τοῦ ἐπὶ πλεῖστον διὰ τὸ λεπτόγεων ἀστασίαστον οὖσαν ἄνθρωποι ᾤκουν οἱ αὐτοὶ αἰεί.')"
   ]
  },
  {
   "cell_type": "code",
   "execution_count": 6,
   "metadata": {},
   "outputs": [
    {
     "data": {
      "text/plain": [
       "τὴν γοῦν Ἀττικὴν ἐκ τοῦ ἐπὶ πλεῖστον διὰ τὸ λεπτόγεων ἀστασίαστον οὖσαν ἄνθρωποι ᾤκουν οἱ αὐτοὶ αἰεί."
      ]
     },
     "execution_count": 6,
     "metadata": {},
     "output_type": "execute_result"
    }
   ],
   "source": [
    "doc"
   ]
  },
  {
   "cell_type": "code",
   "execution_count": 8,
   "metadata": {},
   "outputs": [
    {
     "data": {
      "text/plain": [
       "τὴν γοῦν Ἀττικὴν ἐκ τοῦ ἐπὶ πλεῖστον διὰ τὸ λεπτόγεων ἀστασίαστον οὖσαν ἄνθρωποι ᾤκουν οἱ αὐτοὶ αἰεί."
      ]
     },
     "execution_count": 8,
     "metadata": {},
     "output_type": "execute_result"
    }
   ],
   "source": [
    "next(iter(doc.sents))"
   ]
  },
  {
   "cell_type": "markdown",
   "metadata": {},
   "source": [
    "# Read sample data"
   ]
  },
  {
   "cell_type": "code",
   "execution_count": 9,
   "metadata": {},
   "outputs": [],
   "source": [
    "import pandas as pd\n",
    "\n",
    "df = pd.read_csv('acts.csv')"
   ]
  },
  {
   "cell_type": "markdown",
   "metadata": {},
   "source": [
    "# Preprocess"
   ]
  },
  {
   "cell_type": "code",
   "execution_count": 10,
   "metadata": {},
   "outputs": [],
   "source": [
    "input = df['Word'].copy()"
   ]
  },
  {
   "cell_type": "code",
   "execution_count": 11,
   "metadata": {},
   "outputs": [],
   "source": [
    "labels = df['Proper Noun'].copy()"
   ]
  },
  {
   "cell_type": "code",
   "execution_count": 12,
   "metadata": {},
   "outputs": [
    {
     "data": {
      "text/plain": [
       "0            Τὸν\n",
       "1            μὲν\n",
       "2         πρῶτον\n",
       "3          λόγον\n",
       "4     ἐποιησάμην\n",
       "5           περὶ\n",
       "6         πάντων\n",
       "7              ὦ\n",
       "8        Θεόφιλε\n",
       "9             ὧν\n",
       "10        ἤρξατο\n",
       "11             ὁ\n",
       "12        Ἰησοῦς\n",
       "13        ποιεῖν\n",
       "14            τε\n",
       "15           καὶ\n",
       "16     διδάσκειν\n",
       "17          ἄχρι\n",
       "18            ἧς\n",
       "19        ἡμέρας\n",
       "Name: Word, dtype: object"
      ]
     },
     "execution_count": 12,
     "metadata": {},
     "output_type": "execute_result"
    }
   ],
   "source": [
    "input.head(20)"
   ]
  },
  {
   "cell_type": "code",
   "execution_count": 13,
   "metadata": {},
   "outputs": [
    {
     "data": {
      "text/plain": [
       "0            ΤῸΝ\n",
       "1            ΜῈΝ\n",
       "2        ΠΡΩ͂ΤΟΝ\n",
       "3          ΛΌΓΟΝ\n",
       "4     ἘΠΟΙΗΣΆΜΗΝ\n",
       "5           ΠΕΡῚ\n",
       "6         ΠΆΝΤΩΝ\n",
       "7              Ὦ\n",
       "8        ΘΕΌΦΙΛΕ\n",
       "9             ὯΝ\n",
       "10        ἬΡΞΑΤΟ\n",
       "11             Ὁ\n",
       "12       ἸΗΣΟΥ͂Σ\n",
       "13       ΠΟΙΕΙ͂Ν\n",
       "14            ΤΕ\n",
       "15           ΚΑῚ\n",
       "16     ΔΙΔΆΣΚΕΙΝ\n",
       "17          ἌΧΡΙ\n",
       "18            ἯΣ\n",
       "19        ἩΜΈΡΑΣ\n",
       "Name: Word, dtype: object"
      ]
     },
     "execution_count": 13,
     "metadata": {},
     "output_type": "execute_result"
    }
   ],
   "source": [
    "input = input.str.upper()\n",
    "input.head(20)"
   ]
  },
  {
   "cell_type": "code",
   "execution_count": 14,
   "metadata": {},
   "outputs": [
    {
     "data": {
      "text/plain": [
       "Proper Noun\n",
       "TRUE,PERSON    374\n",
       "TRUE,GPE       177\n",
       "TRUE,DIVINE    157\n",
       "TRUE,GROUP     141\n",
       "TRUE,TITLE     117\n",
       "TRUE,ORG        22\n",
       "TRUE,LOC        21\n",
       "TRUE,DEITY      11\n",
       "TRUE,EVENT       8\n",
       "TRUE,BOOK        7\n",
       "TRUE,LANG        2\n",
       "TRUE,TIME        1\n",
       "Name: count, dtype: int64"
      ]
     },
     "execution_count": 14,
     "metadata": {},
     "output_type": "execute_result"
    }
   ],
   "source": [
    "labels.value_counts()"
   ]
  },
  {
   "cell_type": "code",
   "execution_count": 15,
   "metadata": {},
   "outputs": [
    {
     "data": {
      "text/plain": [
       "10038"
      ]
     },
     "execution_count": 15,
     "metadata": {},
     "output_type": "execute_result"
    }
   ],
   "source": [
    "len(labels)"
   ]
  },
  {
   "cell_type": "markdown",
   "metadata": {},
   "source": [
    "### Side: concatenate all words without white space separations"
   ]
  },
  {
   "cell_type": "code",
   "execution_count": 16,
   "metadata": {},
   "outputs": [],
   "source": [
    "# ''.join(input)"
   ]
  },
  {
   "cell_type": "code",
   "execution_count": 17,
   "metadata": {},
   "outputs": [],
   "source": [
    "# doc = nlp(''.join(input))"
   ]
  },
  {
   "cell_type": "code",
   "execution_count": 18,
   "metadata": {},
   "outputs": [],
   "source": [
    "# for token in doc:\n",
    "#     print(token.lemma_, token.is_stop, token.pos_, token.morph, token.dep_, token.head)\n",
    "#     break"
   ]
  },
  {
   "cell_type": "markdown",
   "metadata": {},
   "source": [
    "Apparently the model cannot handle it!"
   ]
  },
  {
   "cell_type": "markdown",
   "metadata": {},
   "source": [
    "### Concat all words with white space separations"
   ]
  },
  {
   "cell_type": "code",
   "execution_count": 19,
   "metadata": {},
   "outputs": [
    {
     "name": "stderr",
     "output_type": "stream",
     "text": [
      "/home/jaredxfeng/sides/nergnt/venvv/lib/python3.12/site-packages/thinc/shims/pytorch.py:114: FutureWarning: `torch.cuda.amp.autocast(args...)` is deprecated. Please use `torch.amp.autocast('cuda', args...)` instead.\n",
      "  with torch.cuda.amp.autocast(self._mixed_precision):\n"
     ]
    }
   ],
   "source": [
    "doc = nlp(' '.join(input))"
   ]
  },
  {
   "cell_type": "code",
   "execution_count": 20,
   "metadata": {},
   "outputs": [
    {
     "data": {
      "text/plain": [
       "ΤῸΝ ΜῈΝ ΠΡΩ͂ΤΟΝ ΛΌΓΟΝ ἘΠΟΙΗΣΆΜΗΝ ΠΕΡῚ ΠΆΝΤΩΝ Ὦ ΘΕΌΦΙΛΕ ὯΝ ἬΡΞΑΤΟ Ὁ ἸΗΣΟΥ͂Σ ΠΟΙΕΙ͂Ν ΤΕ ΚΑῚ ΔΙΔΆΣΚΕΙΝ ἌΧΡΙ ἯΣ ἩΜΈΡΑΣ"
      ]
     },
     "execution_count": 20,
     "metadata": {},
     "output_type": "execute_result"
    }
   ],
   "source": [
    "next(iter(doc.sents))"
   ]
  },
  {
   "cell_type": "code",
   "execution_count": 68,
   "metadata": {},
   "outputs": [
    {
     "name": "stdout",
     "output_type": "stream",
     "text": [
      "ὁ True DET Case=Acc|Definite=Def|Gender=Masc|Number=Sing|PronType=Dem det ΛΌΓΟΝ\n",
      "μέν True ADV  discourse ἘΠΟΙΗΣΆΜΗΝ\n",
      "ΠΡΩ͂ΤΟΝ False ADJ Case=Acc|Gender=Masc|Number=Sing nmod ΛΌΓΟΝ\n",
      "λόγος False NOUN Case=Acc|Gender=Masc|Number=Sing obj ἘΠΟΙΗΣΆΜΗΝ\n",
      "ποιέω False VERB Aspect=Perf|Mood=Ind|Number=Sing|Person=1|Tense=Past|VerbForm=Fin|Voice=Mid ROOT ἘΠΟΙΗΣΆΜΗΝ\n",
      "περί True ADP  case ΠΆΝΤΩΝ\n",
      "πᾶς False ADJ Case=Gen|Gender=Neut|Number=Plur obl ἘΠΟΙΗΣΆΜΗΝ\n",
      "ὦ True INTJ  discourse ΘΕΌΦΙΛΕ\n",
      "θεόφιλος False PROPN Case=Voc|Gender=Masc|Number=Sing vocative ἘΠΟΙΗΣΆΜΗΝ\n",
      "ὅς True PRON Case=Gen|Gender=Masc|Number=Plur|PronType=Rel obj ΠΟΙΕΙ͂Ν\n",
      "ἄρχω False VERB Aspect=Perf|Mood=Ind|Number=Sing|Person=3|Tense=Past|VerbForm=Fin|Voice=Mid acl ΛΌΓΟΝ\n",
      "ὁ True DET Case=Nom|Definite=Def|Gender=Masc|Number=Sing|PronType=Dem det ἸΗΣΟΥ͂Σ\n",
      "ἸΗΣΟ(Υ)͂Σ False PROPN Case=Nom|Gender=Masc|Number=Sing nsubj ἬΡΞΑΤΟ\n",
      "ΠΟΙΕΙ͂Ν False VERB Tense=Pres|VerbForm=Inf|Voice=Act xcomp ἬΡΞΑΤΟ\n",
      "τε True CCONJ  cc ΠΟΙΕΙ͂Ν\n",
      "καί True CCONJ  cc ΠΟΙΕΙ͂Ν\n",
      "διδάσκω False VERB Tense=Pres|VerbForm=Inf|Voice=Act conj ΠΟΙΕΙ͂Ν\n",
      "ἄχρι False ADP  case ἩΜΈΡΑΣ\n",
      "ὅς True PRON Case=Gen|Gender=Fem|Number=Sing|PronType=Rel det ἩΜΈΡΑΣ\n",
      "ἡμέρα False NOUN Case=Gen|Gender=Fem|Number=Sing obl ΠΟΙΕΙ͂Ν\n",
      "ἐντέλλω False VERB Aspect=Perf|Case=Nom|Gender=Masc|Number=Sing|Tense=Past|VerbForm=Part|Voice=Mid advcl ἈΝΕΛΉΜΦΘΗ\n"
     ]
    }
   ],
   "source": [
    "for i, token in enumerate(doc):\n",
    "    print(token.lemma_, token.is_stop, token.pos_, token.morph, token.dep_, token.head)\n",
    "    if i == 20:\n",
    "        break"
   ]
  },
  {
   "cell_type": "code",
   "execution_count": 69,
   "metadata": {},
   "outputs": [
    {
     "data": {
      "text/plain": [
       "['transformer',\n",
       " 'tagger',\n",
       " 'morphologizer',\n",
       " 'parser',\n",
       " 'trainable_lemmatizer',\n",
       " 'frequency_lemmatizer']"
      ]
     },
     "execution_count": 69,
     "metadata": {},
     "output_type": "execute_result"
    }
   ],
   "source": [
    "nlp.pipe_names"
   ]
  },
  {
   "cell_type": "code",
   "execution_count": 70,
   "metadata": {},
   "outputs": [
    {
     "data": {
      "text/plain": [
       "<spacy.pipeline.ner.EntityRecognizer at 0x7f5b377567a0>"
      ]
     },
     "execution_count": 70,
     "metadata": {},
     "output_type": "execute_result"
    }
   ],
   "source": [
    "nlp.add_pipe(\"ner\")"
   ]
  },
  {
   "cell_type": "code",
   "execution_count": 71,
   "metadata": {},
   "outputs": [
    {
     "data": {
      "text/plain": [
       "['transformer',\n",
       " 'tagger',\n",
       " 'morphologizer',\n",
       " 'parser',\n",
       " 'trainable_lemmatizer',\n",
       " 'frequency_lemmatizer',\n",
       " 'ner']"
      ]
     },
     "execution_count": 71,
     "metadata": {},
     "output_type": "execute_result"
    }
   ],
   "source": [
    "nlp.pipe_names"
   ]
  },
  {
   "cell_type": "code",
   "execution_count": null,
   "metadata": {},
   "outputs": [],
   "source": []
  }
 ],
 "metadata": {
  "kernelspec": {
   "display_name": "venvv",
   "language": "python",
   "name": "python3"
  },
  "language_info": {
   "codemirror_mode": {
    "name": "ipython",
    "version": 3
   },
   "file_extension": ".py",
   "mimetype": "text/x-python",
   "name": "python",
   "nbconvert_exporter": "python",
   "pygments_lexer": "ipython3",
   "version": "3.12.7"
  }
 },
 "nbformat": 4,
 "nbformat_minor": 2
}
